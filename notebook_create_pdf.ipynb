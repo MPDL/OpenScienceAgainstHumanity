{
 "cells": [
  {
   "cell_type": "code",
   "execution_count": 2,
   "id": "9b1a9c06",
   "metadata": {},
   "outputs": [],
   "source": [
    "from PyPDF2 import PdfWriter, PdfReader, PdfMerger, Transformation\n",
    "import io\n",
    "import csv\n",
    "from reportlab.pdfgen import canvas\n",
    "from reportlab.lib.styles import ParagraphStyle\n",
    "from reportlab.platypus import Paragraph\n",
    "import segno\n",
    "import os"
   ]
  },
  {
   "cell_type": "code",
   "execution_count": 45,
   "id": "04f8e9b1",
   "metadata": {},
   "outputs": [],
   "source": [
    "def add_credit(page, imgPath):\n",
    "    imgTemp = io.BytesIO()\n",
    "    imgDoc = canvas.Canvas(imgTemp)\n",
    "    # Draw image on Canvas and save PDF in buffer\n",
    "    imgDoc.drawImage(imgPath, 5, 5, 30, 30)  ## at (5,5) with size 10x10\n",
    "    imgDoc.save()\n",
    "    # overlay logo_image on page\n",
    "    imgTemp.seek(0)\n",
    "    overlay = PdfReader(imgTemp).pages[0]\n",
    "    op = Transformation().rotate(0).translate(tx=30, ty=230)\n",
    "    overlay.add_transformation(op)\n",
    "    page.merge_page(overlay)\n",
    "    return page"
   ]
  },
  {
   "cell_type": "code",
   "execution_count": 46,
   "id": "8b82f49d",
   "metadata": {},
   "outputs": [],
   "source": [
    "def add_qr(url, page):\n",
    "    # create a qr code and write to tmp file\n",
    "    qrcode = segno.make_qr(url)\n",
    "    imgPath = \"tmp-qr.png\"\n",
    "    qrcode.save(imgPath, scale=5)\n",
    "    # Using ReportLab to insert image into PDF\n",
    "    imgTemp = io.BytesIO()\n",
    "    imgDoc = canvas.Canvas(imgTemp)\n",
    "    # Draw image on Canvas and save PDF in buffer\n",
    "    imgDoc.drawImage(imgPath, 5, 5, 50, 50)  ## at (5,5) with size 50x50\n",
    "    imgDoc.save()\n",
    "    # overlay qr code on page\n",
    "    imgTemp.seek(0)\n",
    "    overlay = PdfReader(imgTemp).pages[0]\n",
    "    op = Transformation().rotate(0).translate(tx=30, ty=30)\n",
    "    overlay.add_transformation(op)\n",
    "    page.merge_page(overlay)\n",
    "    # remove temp file\n",
    "    os.remove(imgPath)\n",
    "    return page"
   ]
  },
  {
   "cell_type": "code",
   "execution_count": 47,
   "id": "9aee9c41",
   "metadata": {},
   "outputs": [],
   "source": [
    "def add_text_to_pdf(existing_pdf_path, cardcontent, output):\n",
    "    # read your existing PDF\n",
    "    existing_pdf = PdfReader(open(existing_pdf_path[0], \"rb\"))\n",
    "    existing_pdf_back = PdfReader(open(existing_pdf_path[1], \"rb\"))\n",
    "\n",
    "    packet = io.BytesIO()\n",
    "    can = canvas.Canvas(packet, pagesize=(200, 250))\n",
    "\n",
    "    # make and draw a paragraph with the text\n",
    "\n",
    "    # hacky way of determining text color\n",
    "    if 'white' in existing_pdf_path[0]:\n",
    "        textcolor = 'black'\n",
    "    else:\n",
    "        textcolor = 'white'\n",
    "\n",
    "    my_Style = ParagraphStyle('My Para style',\n",
    "                              fontName='Helvetica-Bold',\n",
    "                              fontSize=12,\n",
    "                              borderWidth=40,\n",
    "                              borderPadding=40,\n",
    "                              leading=20,\n",
    "                              alignment=0,\n",
    "                              textColor=textcolor\n",
    "                              )\n",
    "    p1 = Paragraph(cardcontent[0], my_Style)\n",
    "    w, h = p1.wrap(180, round(250))\n",
    "    p1.wrapOn(can, w - 40, h - 10)\n",
    "\n",
    "    p1.drawOn(can, 200 - w + 40, 250 - h - 70)\n",
    "    can.save()\n",
    "\n",
    "    # move to the beginning of the StringIO buffer\n",
    "    packet.seek(0)\n",
    "\n",
    "    # create a new PDF with Reportlab\n",
    "    new_pdf = PdfReader(packet)\n",
    "    # add the text (which is the new pdf) on the existing page\n",
    "    page = existing_pdf.pages[0]\n",
    "    page.merge_page(new_pdf.pages[0])\n",
    "    # if available, add QR code\n",
    "    if len(cardcontent) == 3 and cardcontent[1] != '':\n",
    "        page = add_qr(cardcontent[1], page)\n",
    "    # if applicable, add nlrse logo\n",
    "    if len(cardcontent) == 3 and cardcontent[2] == \"nlrse\":\n",
    "        if 'white' in existing_pdf_path[0]:\n",
    "            imgPath = \"nlrse_whitelogo.png\"\n",
    "        else:\n",
    "            imgPath = \"nlrse_blacklogo.png\"\n",
    "        page = add_credit(page,imgPath)\n",
    "    # if applicable, add minverva logo\n",
    "    if len(cardcontent) == 3 and cardcontent[2] == \"mpdl\":\n",
    "        if 'white' in existing_pdf_path[0]:\n",
    "            imgPath = \"MPG_Minerva_whiteBG.png\"\n",
    "        else:\n",
    "            imgPath = \"MPG_Minerva_blackBG.png\"\n",
    "        page = add_credit(page,imgPath)\n",
    "    # add front and back of card\n",
    "    output.add_page(existing_pdf_back.pages[0])\n",
    "    output.add_page(page)\n",
    "    return output"
   ]
  },
  {
   "cell_type": "code",
   "execution_count": 48,
   "id": "b9022f66",
   "metadata": {},
   "outputs": [],
   "source": [
    "existing_pdf_paths = [\"Open science agains humanity - white front - 88x63.pdf\",\n",
    "                      \"Open science agains humanity - white back - 88x63.pdf\"]\n",
    "output_stream = open(\"Open_Science_Against_Humanity_White.pdf\", \"wb\")\n",
    "combined_pages = PdfWriter()\n",
    "with open('CardContentWhite.csv', newline='') as csvfile:\n",
    "    cardreader = csv.reader(csvfile, delimiter=',')\n",
    "    # This skips the first row of the CSV file.\n",
    "    next(cardreader)\n",
    "    for row in cardreader:\n",
    "        combined_pages = add_text_to_pdf(existing_pdf_paths, row, combined_pages)\n",
    "    combined_pages.write(output_stream)\n",
    "    output_stream.close()"
   ]
  },
  {
   "cell_type": "code",
   "execution_count": 49,
   "id": "91f80d20",
   "metadata": {},
   "outputs": [],
   "source": [
    "existing_pdf_paths = [\"Open science agains humanity - black front - 88x63.pdf\",\n",
    "                      \"Open science agains humanity - black back - 88x63.pdf\"]\n",
    "output_stream = open(\"Open_Science_Against_Humanity_Black.pdf\", \"wb\")\n",
    "combined_pages = PdfWriter()\n",
    "with open('CardContentBlack.csv', newline='') as csvfile:\n",
    "    cardreader = csv.reader(csvfile, delimiter=',')\n",
    "    # This skips the first row of the CSV file.\n",
    "    next(cardreader)\n",
    "    for row in cardreader:\n",
    "        combined_pages = add_text_to_pdf(existing_pdf_paths, row, combined_pages)\n",
    "    combined_pages.write(output_stream)\n",
    "    output_stream.close()"
   ]
  },
  {
   "cell_type": "code",
   "execution_count": 50,
   "id": "5c2c8fec",
   "metadata": {},
   "outputs": [],
   "source": [
    "merger = PdfMerger()\n",
    "pdfs = [\"Open_Science_Against_Humanity_Black.pdf\",\"Open_Science_Against_Humanity_White.pdf\"]\n",
    "for pdf in pdfs:\n",
    "    merger.append(pdf)"
   ]
  },
  {
   "cell_type": "code",
   "execution_count": 51,
   "id": "6b198379",
   "metadata": {},
   "outputs": [],
   "source": [
    "merger.write(\"OSAgainstHumanity.pdf\")\n",
    "merger.close()"
   ]
  },
  {
   "cell_type": "code",
   "execution_count": null,
   "id": "1de4ccf3",
   "metadata": {},
   "outputs": [],
   "source": []
  }
 ],
 "metadata": {
  "kernelspec": {
   "display_name": "Python 3 (ipykernel)",
   "language": "python",
   "name": "python3"
  },
  "language_info": {
   "codemirror_mode": {
    "name": "ipython",
    "version": 3
   },
   "file_extension": ".py",
   "mimetype": "text/x-python",
   "name": "python",
   "nbconvert_exporter": "python",
   "pygments_lexer": "ipython3",
   "version": "3.9.13"
  }
 },
 "nbformat": 4,
 "nbformat_minor": 5
}
